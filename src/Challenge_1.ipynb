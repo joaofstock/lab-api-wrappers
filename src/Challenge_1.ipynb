{
  "cells": [
    {
      "cell_type": "markdown",
      "id": "bd0a3905-b346-43d5-9791-d3869299eb9d",
      "metadata": {
        "id": "bd0a3905-b346-43d5-9791-d3869299eb9d"
      },
      "source": [
        "# API wrappers"
      ]
    },
    {
      "cell_type": "markdown",
      "id": "327b4075-5374-4ecf-b8c5-c106d20d80e1",
      "metadata": {
        "id": "327b4075-5374-4ecf-b8c5-c106d20d80e1"
      },
      "source": [
        "The OpenWeatherMap offers REST endpoints for querying current weather, forecasts, historical data, etc. However, accessing this data directly via the REST API requires handling multiple API calls, query parameters, and response parsing. The pyowm library abstracts these complexities and provides useful built-in functionalities."
      ]
    },
    {
      "cell_type": "markdown",
      "id": "1d731d49-fd79-44c8-8f72-68194c99fec0",
      "metadata": {
        "id": "1d731d49-fd79-44c8-8f72-68194c99fec0"
      },
      "source": [
        "After signing in to OpenWeatherMap retrieve your api key at https://home.openweathermap.org/api_keys\n",
        "\n",
        "You will also need to install the pyowm package: pip install pyowm"
      ]
    },
    {
      "cell_type": "code",
      "source": [
        "pip install pyowm"
      ],
      "metadata": {
        "colab": {
          "base_uri": "https://localhost:8080/"
        },
        "id": "d7ne9pMy9EQF",
        "outputId": "5f23c4c4-b96e-4829-b659-ef635331ad9b"
      },
      "id": "d7ne9pMy9EQF",
      "execution_count": 1,
      "outputs": [
        {
          "output_type": "stream",
          "name": "stdout",
          "text": [
            "Collecting pyowm\n",
            "  Downloading pyowm-3.3.0-py3-none-any.whl.metadata (6.8 kB)\n",
            "Requirement already satisfied: requests<3,>=2.20.0 in /usr/local/lib/python3.10/dist-packages (from pyowm) (2.32.3)\n",
            "Collecting geojson<3,>=2.3.0 (from pyowm)\n",
            "  Downloading geojson-2.5.0-py2.py3-none-any.whl.metadata (15 kB)\n",
            "Requirement already satisfied: PySocks<2,>=1.7.1 in /usr/local/lib/python3.10/dist-packages (from pyowm) (1.7.1)\n",
            "Requirement already satisfied: charset-normalizer<4,>=2 in /usr/local/lib/python3.10/dist-packages (from requests<3,>=2.20.0->pyowm) (3.4.0)\n",
            "Requirement already satisfied: idna<4,>=2.5 in /usr/local/lib/python3.10/dist-packages (from requests<3,>=2.20.0->pyowm) (3.10)\n",
            "Requirement already satisfied: urllib3<3,>=1.21.1 in /usr/local/lib/python3.10/dist-packages (from requests<3,>=2.20.0->pyowm) (2.2.3)\n",
            "Requirement already satisfied: certifi>=2017.4.17 in /usr/local/lib/python3.10/dist-packages (from requests<3,>=2.20.0->pyowm) (2024.8.30)\n",
            "Downloading pyowm-3.3.0-py3-none-any.whl (4.5 MB)\n",
            "\u001b[2K   \u001b[90m━━━━━━━━━━━━━━━━━━━━━━━━━━━━━━━━━━━━━━━━\u001b[0m \u001b[32m4.5/4.5 MB\u001b[0m \u001b[31m27.4 MB/s\u001b[0m eta \u001b[36m0:00:00\u001b[0m\n",
            "\u001b[?25hDownloading geojson-2.5.0-py2.py3-none-any.whl (14 kB)\n",
            "Installing collected packages: geojson, pyowm\n",
            "Successfully installed geojson-2.5.0 pyowm-3.3.0\n"
          ]
        }
      ]
    },
    {
      "cell_type": "code",
      "execution_count": 20,
      "id": "63b327b1-338b-4b14-a5b5-1bd8741da64b",
      "metadata": {
        "id": "63b327b1-338b-4b14-a5b5-1bd8741da64b"
      },
      "outputs": [],
      "source": [
        "import pandas as pd\n",
        "import requests as re\n",
        "import pyowm\n",
        "import json\n",
        "\n"
      ]
    },
    {
      "cell_type": "code",
      "source": [
        "with open('secrets.txt', 'r') as file:\n",
        "    content = file.read()\n",
        "    print(f\"File content: {content}\")\n",
        "    if 'open-weather:' in content:\n",
        "        api_key = content.split('open-weather:')[1].strip()\n",
        "        print(f\"Extracted API Key: {api_key}\")"
      ],
      "metadata": {
        "colab": {
          "base_uri": "https://localhost:8080/"
        },
        "id": "vlPSK6TqBuKX",
        "outputId": "da8744cb-ea25-4a01-eebb-9236ba1df023"
      },
      "id": "vlPSK6TqBuKX",
      "execution_count": 41,
      "outputs": [
        {
          "output_type": "stream",
          "name": "stdout",
          "text": [
            "File content: fsq-token: fsq3cZO69vmEk1eghyZuQZcOZ2tymbgfywMhDglZ9OlA97k=\n",
            "open-weather: 9ad8410a92ffffc960cfd653d4df2a21\n",
            "Extracted API Key: 9ad8410a92ffffc960cfd653d4df2a21\n"
          ]
        }
      ]
    },
    {
      "cell_type": "markdown",
      "id": "f73d3029-c6a6-43b9-81a9-0e81c13bdf09",
      "metadata": {
        "id": "f73d3029-c6a6-43b9-81a9-0e81c13bdf09"
      },
      "source": [
        "## use case 1: managing API keys\n",
        "\n",
        "In a raw rest API call you always have to manage credentials in each individual call. Wrappers usually store and manage the authentication for you"
      ]
    },
    {
      "cell_type": "code",
      "execution_count": 40,
      "id": "afbcdf71-845e-4aae-b8cc-8963745f7d4b",
      "metadata": {
        "colab": {
          "base_uri": "https://localhost:8080/"
        },
        "id": "afbcdf71-845e-4aae-b8cc-8963745f7d4b",
        "outputId": "8da6bb94-4e86-4e78-e395-6a8981eeb038"
      },
      "outputs": [
        {
          "output_type": "execute_result",
          "data": {
            "text/plain": [
              "{'coord': {'lon': -0.1257, 'lat': 51.5085},\n",
              " 'weather': [{'id': 803,\n",
              "   'main': 'Clouds',\n",
              "   'description': 'broken clouds',\n",
              "   'icon': '04n'}],\n",
              " 'base': 'stations',\n",
              " 'main': {'temp': 284.21,\n",
              "  'feels_like': 283.72,\n",
              "  'temp_min': 282.64,\n",
              "  'temp_max': 285.01,\n",
              "  'pressure': 1023,\n",
              "  'humidity': 90,\n",
              "  'sea_level': 1023,\n",
              "  'grnd_level': 1019},\n",
              " 'visibility': 10000,\n",
              " 'wind': {'speed': 2.57, 'deg': 220},\n",
              " 'clouds': {'all': 65},\n",
              " 'dt': 1729548001,\n",
              " 'sys': {'type': 2,\n",
              "  'id': 2075535,\n",
              "  'country': 'GB',\n",
              "  'sunrise': 1729492507,\n",
              "  'sunset': 1729529683},\n",
              " 'timezone': 3600,\n",
              " 'id': 2643743,\n",
              " 'name': 'London',\n",
              " 'cod': 200}"
            ]
          },
          "metadata": {},
          "execution_count": 40
        }
      ],
      "source": [
        "#You can get current weather data by making a GET request to an endpoint like:\n",
        "\n",
        "params = {\n",
        "    'appid' : api_key\n",
        "}\n",
        "\n",
        "response = re.get('https://api.openweathermap.org/data/2.5/weather?q=London', params = params)\n",
        "\n",
        "json.loads(response.text)\n",
        "\n",
        "#but for every call you make using GET from now on you do need to add the parameters, since the raw API does not manage authentication for you"
      ]
    },
    {
      "cell_type": "markdown",
      "id": "b82c585b-fd83-4f59-9d46-14225f3e5037",
      "metadata": {
        "id": "b82c585b-fd83-4f59-9d46-14225f3e5037"
      },
      "source": [
        "Most wrappers (pyowm included) include some way of initializing a session with the authentication key that you then don't need to type again.\n",
        "\n",
        "Initialize pyowm with the default configuration. Thenopen the weather manager\n",
        "\n",
        "Check out a snippet here: https://pyowm.readthedocs.io/en/latest/v3/code-recipes.html#weather_data"
      ]
    },
    {
      "cell_type": "code",
      "execution_count": 42,
      "id": "f376d466-5a69-4a47-b35d-1870cbef61ff",
      "metadata": {
        "id": "f376d466-5a69-4a47-b35d-1870cbef61ff"
      },
      "outputs": [],
      "source": [
        "\n",
        "from pyowm.owm import OWM\n",
        "owm = OWM(api_key)\n",
        "weather_mgr = owm.weather_manager()"
      ]
    },
    {
      "cell_type": "markdown",
      "id": "840060e4-d3de-4b96-bb03-5bce02003f1d",
      "metadata": {
        "id": "840060e4-d3de-4b96-bb03-5bce02003f1d"
      },
      "source": [
        "## use case 2: Simplified calls\n",
        "\n",
        "With the raw REST API, you'd have to build a URL manually, send the request, and parse the JSON response to get the current weather."
      ]
    },
    {
      "cell_type": "code",
      "execution_count": 38,
      "id": "a2aa8395-0bed-4098-8881-0ffe93541b1f",
      "metadata": {
        "colab": {
          "base_uri": "https://localhost:8080/"
        },
        "id": "a2aa8395-0bed-4098-8881-0ffe93541b1f",
        "outputId": "47b3a2a6-db03-4c24-a3ca-cc7740b5943c"
      },
      "outputs": [
        {
          "output_type": "stream",
          "name": "stdout",
          "text": [
            "Temperature: 11.03°C, Humidity: 90%, Wind Speed: 2.57 m/s\n"
          ]
        }
      ],
      "source": [
        "city = 'London'\n",
        "url = f'http://api.openweathermap.org/data/2.5/weather?q={city}'\n",
        "\n",
        "params = {\n",
        "    'appid': api_key,\n",
        "    'units': 'metric'\n",
        "}\n",
        "\n",
        "response = re.get(url,params= params)\n",
        "data = response.json()\n",
        "temperature = data['main']['temp']\n",
        "humidity = data['main']['humidity']\n",
        "wind_speed = data['wind']['speed']\n",
        "\n",
        "print(f\"Temperature: {temperature}°C, Humidity: {humidity}%, Wind Speed: {wind_speed} m/s\")"
      ]
    },
    {
      "cell_type": "markdown",
      "id": "df5bc6df-bfb2-416d-8d06-3961d3a12234",
      "metadata": {
        "id": "df5bc6df-bfb2-416d-8d06-3961d3a12234"
      },
      "source": [
        "Get the equivalent call as above for the city of London using the pyowm package"
      ]
    },
    {
      "cell_type": "code",
      "execution_count": 43,
      "id": "d1986770-4628-480b-b587-9ff5c42d301c",
      "metadata": {
        "colab": {
          "base_uri": "https://localhost:8080/"
        },
        "id": "d1986770-4628-480b-b587-9ff5c42d301c",
        "outputId": "88ccbc6d-13c5-416d-85c2-beee84c09e57"
      },
      "outputs": [
        {
          "output_type": "stream",
          "name": "stdout",
          "text": [
            "City: London\n",
            "Temperature: 11.06°C\n",
            "Humidity: 90%\n",
            "Wind Speed: 2.57 m/s\n"
          ]
        }
      ],
      "source": [
        "observation = weather_mgr.weather_at_place(city)\n",
        "\n",
        "weather = observation.weather\n",
        "temperature = weather.temperature('celsius')['temp']\n",
        "humidity = weather.humidity\n",
        "wind_speed = weather.wind()['speed']\n",
        "\n",
        "print(f\"City: {city}\")\n",
        "print(f\"Temperature: {temperature}°C\")\n",
        "print(f\"Humidity: {humidity}%\")\n",
        "print(f\"Wind Speed: {wind_speed} m/s\")"
      ]
    },
    {
      "cell_type": "markdown",
      "id": "7e7b93b2-c383-4e49-8fce-a0923ac59031",
      "metadata": {
        "id": "7e7b93b2-c383-4e49-8fce-a0923ac59031"
      },
      "source": [
        "## use case 3: Combining and chaining calls\n",
        "\n",
        "Wrappers often offer methods that make multiple calls to batch requests that make sense to batch. And often they offer methods that make sequences of calls that each returns information necessary to make the next call."
      ]
    },
    {
      "cell_type": "markdown",
      "id": "8f4a6b6c-f397-48ce-a3ef-f88e1fb95eb9",
      "metadata": {
        "id": "8f4a6b6c-f397-48ce-a3ef-f88e1fb95eb9"
      },
      "source": [
        "For example, to get a weather forecast for a specific city using the raw API you need to first geocode the city to get its latitude and longitude:"
      ]
    },
    {
      "cell_type": "code",
      "execution_count": 34,
      "id": "d182cf31-80f8-4b61-8de0-897d2d6479d7",
      "metadata": {
        "id": "d182cf31-80f8-4b61-8de0-897d2d6479d7"
      },
      "outputs": [],
      "source": [
        "city = 'New York'\n",
        "geocode_url = f'http://api.openweathermap.org/data/2.5/weather?q={city}'\n",
        "geocode_response = re.get(geocode_url,params=params).json()\n",
        "\n",
        "lat = geocode_response['coord']['lat']\n",
        "lon = geocode_response['coord']['lon']"
      ]
    },
    {
      "cell_type": "markdown",
      "id": "547c5deb-1070-4b72-b035-32ea5a615eda",
      "metadata": {
        "id": "547c5deb-1070-4b72-b035-32ea5a615eda"
      },
      "source": [
        "Then, request the weather forecast for that latitude/longitude:"
      ]
    },
    {
      "cell_type": "code",
      "execution_count": 35,
      "id": "03737eff-cbc6-412f-b6a1-03e28b39b1e4",
      "metadata": {
        "colab": {
          "base_uri": "https://localhost:8080/"
        },
        "id": "03737eff-cbc6-412f-b6a1-03e28b39b1e4",
        "outputId": "6c68dec4-bfd0-4d59-e427-df57bcfd854a"
      },
      "outputs": [
        {
          "output_type": "stream",
          "name": "stdout",
          "text": [
            "Time: 2024-10-22 00:00:00, Temp: 296.74°C\n",
            "Time: 2024-10-22 03:00:00, Temp: 294.59°C\n",
            "Time: 2024-10-22 06:00:00, Temp: 292.1°C\n",
            "Time: 2024-10-22 09:00:00, Temp: 291.27°C\n",
            "Time: 2024-10-22 12:00:00, Temp: 290.78°C\n",
            "Time: 2024-10-22 15:00:00, Temp: 294.42°C\n",
            "Time: 2024-10-22 18:00:00, Temp: 297.47°C\n",
            "Time: 2024-10-22 21:00:00, Temp: 295.72°C\n",
            "Time: 2024-10-23 00:00:00, Temp: 292.49°C\n",
            "Time: 2024-10-23 03:00:00, Temp: 291.79°C\n",
            "Time: 2024-10-23 06:00:00, Temp: 290.91°C\n",
            "Time: 2024-10-23 09:00:00, Temp: 289.69°C\n",
            "Time: 2024-10-23 12:00:00, Temp: 288.8°C\n",
            "Time: 2024-10-23 15:00:00, Temp: 292.16°C\n",
            "Time: 2024-10-23 18:00:00, Temp: 295.98°C\n",
            "Time: 2024-10-23 21:00:00, Temp: 296.36°C\n",
            "Time: 2024-10-24 00:00:00, Temp: 293.77°C\n",
            "Time: 2024-10-24 03:00:00, Temp: 292.11°C\n",
            "Time: 2024-10-24 06:00:00, Temp: 291.01°C\n",
            "Time: 2024-10-24 09:00:00, Temp: 286.75°C\n",
            "Time: 2024-10-24 12:00:00, Temp: 284.86°C\n",
            "Time: 2024-10-24 15:00:00, Temp: 286.77°C\n",
            "Time: 2024-10-24 18:00:00, Temp: 289.47°C\n",
            "Time: 2024-10-24 21:00:00, Temp: 290.22°C\n",
            "Time: 2024-10-25 00:00:00, Temp: 287.93°C\n",
            "Time: 2024-10-25 03:00:00, Temp: 286.44°C\n",
            "Time: 2024-10-25 06:00:00, Temp: 285.06°C\n",
            "Time: 2024-10-25 09:00:00, Temp: 283.78°C\n",
            "Time: 2024-10-25 12:00:00, Temp: 283.19°C\n",
            "Time: 2024-10-25 15:00:00, Temp: 286.47°C\n",
            "Time: 2024-10-25 18:00:00, Temp: 288.24°C\n",
            "Time: 2024-10-25 21:00:00, Temp: 288.36°C\n",
            "Time: 2024-10-26 00:00:00, Temp: 287.72°C\n",
            "Time: 2024-10-26 03:00:00, Temp: 288°C\n",
            "Time: 2024-10-26 06:00:00, Temp: 288.05°C\n",
            "Time: 2024-10-26 09:00:00, Temp: 287.81°C\n",
            "Time: 2024-10-26 12:00:00, Temp: 287.75°C\n",
            "Time: 2024-10-26 15:00:00, Temp: 290.22°C\n",
            "Time: 2024-10-26 18:00:00, Temp: 292.97°C\n",
            "Time: 2024-10-26 21:00:00, Temp: 292.95°C\n"
          ]
        }
      ],
      "source": [
        "forecast_url = f'http://api.openweathermap.org/data/2.5/forecast?lat={lat}&lon={lon}'\n",
        "forecast_response = re.get(forecast_url, params=params).json()\n",
        "\n",
        "for entry in forecast_response['list']:\n",
        "    print(f\"Time: {entry['dt_txt']}, Temp: {entry['main']['temp']}°C\")"
      ]
    },
    {
      "cell_type": "markdown",
      "id": "f75ab558-7500-40fa-a4aa-93a18053059a",
      "metadata": {
        "id": "f75ab558-7500-40fa-a4aa-93a18053059a"
      },
      "source": [
        "Two calls: one for geocoding, one for forecasts.\n",
        "But with pyowm, because this is a common operation, there is a method that handles the geocoding internally and then fetches the weather forecast in one step.\n",
        "\n",
        "Get the above forecast in a single call using pyowm.\n",
        "\n",
        "Hint: search for \"forecast_at_place\" in the code recipies of the documentation"
      ]
    },
    {
      "cell_type": "code",
      "execution_count": 47,
      "id": "11e3c1a8-260d-467c-8f47-793fd62a239b",
      "metadata": {
        "colab": {
          "base_uri": "https://localhost:8080/",
          "height": 319
        },
        "id": "11e3c1a8-260d-467c-8f47-793fd62a239b",
        "outputId": "2b1a9b0a-51b1-4249-88e0-c288a816ff20"
      },
      "outputs": [
        {
          "output_type": "error",
          "ename": "UnauthorizedError",
          "evalue": "Invalid API Key provided",
          "traceback": [
            "\u001b[0;31m---------------------------------------------------------------------------\u001b[0m",
            "\u001b[0;31mUnauthorizedError\u001b[0m                         Traceback (most recent call last)",
            "\u001b[0;32m<ipython-input-47-df00281ccf69>\u001b[0m in \u001b[0;36m<cell line: 1>\u001b[0;34m()\u001b[0m\n\u001b[0;32m----> 1\u001b[0;31m \u001b[0mdaily_forecast\u001b[0m \u001b[0;34m=\u001b[0m \u001b[0mweather_mgr\u001b[0m\u001b[0;34m.\u001b[0m\u001b[0mforecast_at_place\u001b[0m\u001b[0;34m(\u001b[0m\u001b[0;34m'Berlin,DE'\u001b[0m\u001b[0;34m,\u001b[0m \u001b[0;34m'daily'\u001b[0m\u001b[0;34m)\u001b[0m\u001b[0;34m.\u001b[0m\u001b[0mforecast\u001b[0m\u001b[0;34m\u001b[0m\u001b[0;34m\u001b[0m\u001b[0m\n\u001b[0m\u001b[1;32m      2\u001b[0m \u001b[0mthree_h_forecast\u001b[0m \u001b[0;34m=\u001b[0m \u001b[0mweather_mgr\u001b[0m\u001b[0;34m.\u001b[0m\u001b[0mforecast_at_place\u001b[0m\u001b[0;34m(\u001b[0m\u001b[0;34m'Berlin,DE'\u001b[0m\u001b[0;34m,\u001b[0m \u001b[0;34m'3h'\u001b[0m\u001b[0;34m)\u001b[0m\u001b[0;34m.\u001b[0m\u001b[0mforecast\u001b[0m\u001b[0;34m\u001b[0m\u001b[0;34m\u001b[0m\u001b[0m\n",
            "\u001b[0;32m/usr/local/lib/python3.10/dist-packages/pyowm/weatherapi25/weather_manager.py\u001b[0m in \u001b[0;36mforecast_at_place\u001b[0;34m(self, name, interval, limit)\u001b[0m\n\u001b[1;32m    289\u001b[0m         \u001b[0;32melse\u001b[0m\u001b[0;34m:\u001b[0m\u001b[0;34m\u001b[0m\u001b[0;34m\u001b[0m\u001b[0m\n\u001b[1;32m    290\u001b[0m             \u001b[0;32mraise\u001b[0m \u001b[0mValueError\u001b[0m\u001b[0;34m(\u001b[0m\u001b[0;34m\"Unsupported time interval for forecast\"\u001b[0m\u001b[0;34m)\u001b[0m\u001b[0;34m\u001b[0m\u001b[0;34m\u001b[0m\u001b[0m\n\u001b[0;32m--> 291\u001b[0;31m         \u001b[0m_\u001b[0m\u001b[0;34m,\u001b[0m \u001b[0mjson_data\u001b[0m \u001b[0;34m=\u001b[0m \u001b[0mself\u001b[0m\u001b[0;34m.\u001b[0m\u001b[0mhttp_client\u001b[0m\u001b[0;34m.\u001b[0m\u001b[0mget_json\u001b[0m\u001b[0;34m(\u001b[0m\u001b[0muri\u001b[0m\u001b[0;34m,\u001b[0m \u001b[0mparams\u001b[0m\u001b[0;34m=\u001b[0m\u001b[0mparams\u001b[0m\u001b[0;34m)\u001b[0m\u001b[0;34m\u001b[0m\u001b[0;34m\u001b[0m\u001b[0m\n\u001b[0m\u001b[1;32m    292\u001b[0m         \u001b[0mfc\u001b[0m \u001b[0;34m=\u001b[0m \u001b[0mforecast\u001b[0m\u001b[0;34m.\u001b[0m\u001b[0mForecast\u001b[0m\u001b[0;34m.\u001b[0m\u001b[0mfrom_dict\u001b[0m\u001b[0;34m(\u001b[0m\u001b[0mjson_data\u001b[0m\u001b[0;34m)\u001b[0m\u001b[0;34m\u001b[0m\u001b[0;34m\u001b[0m\u001b[0m\n\u001b[1;32m    293\u001b[0m         \u001b[0;32mif\u001b[0m \u001b[0mfc\u001b[0m \u001b[0;32mis\u001b[0m \u001b[0;32mnot\u001b[0m \u001b[0;32mNone\u001b[0m\u001b[0;34m:\u001b[0m\u001b[0;34m\u001b[0m\u001b[0;34m\u001b[0m\u001b[0m\n",
            "\u001b[0;32m/usr/local/lib/python3.10/dist-packages/pyowm/commons/http_client.py\u001b[0m in \u001b[0;36mget_json\u001b[0;34m(self, path, params, headers)\u001b[0m\n\u001b[1;32m    156\u001b[0m         \u001b[0;32mexcept\u001b[0m \u001b[0mrequests\u001b[0m\u001b[0;34m.\u001b[0m\u001b[0mexceptions\u001b[0m\u001b[0;34m.\u001b[0m\u001b[0mTimeout\u001b[0m\u001b[0;34m:\u001b[0m\u001b[0;34m\u001b[0m\u001b[0;34m\u001b[0m\u001b[0m\n\u001b[1;32m    157\u001b[0m             \u001b[0;32mraise\u001b[0m \u001b[0mexceptions\u001b[0m\u001b[0;34m.\u001b[0m\u001b[0mTimeoutError\u001b[0m\u001b[0;34m(\u001b[0m\u001b[0;34m'API call timeouted'\u001b[0m\u001b[0;34m)\u001b[0m\u001b[0;34m\u001b[0m\u001b[0;34m\u001b[0m\u001b[0m\n\u001b[0;32m--> 158\u001b[0;31m         \u001b[0mHttpClient\u001b[0m\u001b[0;34m.\u001b[0m\u001b[0mcheck_status_code\u001b[0m\u001b[0;34m(\u001b[0m\u001b[0mresp\u001b[0m\u001b[0;34m.\u001b[0m\u001b[0mstatus_code\u001b[0m\u001b[0;34m,\u001b[0m \u001b[0mresp\u001b[0m\u001b[0;34m.\u001b[0m\u001b[0mtext\u001b[0m\u001b[0;34m)\u001b[0m\u001b[0;34m\u001b[0m\u001b[0;34m\u001b[0m\u001b[0m\n\u001b[0m\u001b[1;32m    159\u001b[0m         \u001b[0;32mtry\u001b[0m\u001b[0;34m:\u001b[0m\u001b[0;34m\u001b[0m\u001b[0;34m\u001b[0m\u001b[0m\n\u001b[1;32m    160\u001b[0m             \u001b[0;32mreturn\u001b[0m \u001b[0mresp\u001b[0m\u001b[0;34m.\u001b[0m\u001b[0mstatus_code\u001b[0m\u001b[0;34m,\u001b[0m \u001b[0mresp\u001b[0m\u001b[0;34m.\u001b[0m\u001b[0mjson\u001b[0m\u001b[0;34m(\u001b[0m\u001b[0;34m)\u001b[0m\u001b[0;34m\u001b[0m\u001b[0;34m\u001b[0m\u001b[0m\n",
            "\u001b[0;32m/usr/local/lib/python3.10/dist-packages/pyowm/commons/http_client.py\u001b[0m in \u001b[0;36mcheck_status_code\u001b[0;34m(cls, status_code, payload)\u001b[0m\n\u001b[1;32m    311\u001b[0m             \u001b[0;32mraise\u001b[0m \u001b[0mexceptions\u001b[0m\u001b[0;34m.\u001b[0m\u001b[0mAPIRequestError\u001b[0m\u001b[0;34m(\u001b[0m\u001b[0mpayload\u001b[0m\u001b[0;34m)\u001b[0m\u001b[0;34m\u001b[0m\u001b[0;34m\u001b[0m\u001b[0m\n\u001b[1;32m    312\u001b[0m         \u001b[0;32melif\u001b[0m \u001b[0mstatus_code\u001b[0m \u001b[0;34m==\u001b[0m \u001b[0;36m401\u001b[0m\u001b[0;34m:\u001b[0m\u001b[0;34m\u001b[0m\u001b[0;34m\u001b[0m\u001b[0m\n\u001b[0;32m--> 313\u001b[0;31m             \u001b[0;32mraise\u001b[0m \u001b[0mexceptions\u001b[0m\u001b[0;34m.\u001b[0m\u001b[0mUnauthorizedError\u001b[0m\u001b[0;34m(\u001b[0m\u001b[0;34m'Invalid API Key provided'\u001b[0m\u001b[0;34m)\u001b[0m\u001b[0;34m\u001b[0m\u001b[0;34m\u001b[0m\u001b[0m\n\u001b[0m\u001b[1;32m    314\u001b[0m         \u001b[0;32melif\u001b[0m \u001b[0mstatus_code\u001b[0m \u001b[0;34m==\u001b[0m \u001b[0;36m404\u001b[0m\u001b[0;34m:\u001b[0m\u001b[0;34m\u001b[0m\u001b[0;34m\u001b[0m\u001b[0m\n\u001b[1;32m    315\u001b[0m             \u001b[0;32mraise\u001b[0m \u001b[0mexceptions\u001b[0m\u001b[0;34m.\u001b[0m\u001b[0mNotFoundError\u001b[0m\u001b[0;34m(\u001b[0m\u001b[0;34m'Unable to find the resource'\u001b[0m\u001b[0;34m)\u001b[0m\u001b[0;34m\u001b[0m\u001b[0;34m\u001b[0m\u001b[0m\n",
            "\u001b[0;31mUnauthorizedError\u001b[0m: Invalid API Key provided"
          ]
        }
      ],
      "source": [
        "# I cannot proceed unfortunatelly, it seems that it needs a paid API.\n",
        "\n",
        "\n",
        "daily_forecast = weather_mgr.forecast_at_place('Berlin,DE', 'daily').forecast\n",
        "three_h_forecast = weather_mgr.forecast_at_place('Berlin,DE', '3h').forecast"
      ]
    },
    {
      "cell_type": "markdown",
      "id": "7ab2b0cc-0d16-4da5-be3e-b8466faecca3",
      "metadata": {
        "id": "7ab2b0cc-0d16-4da5-be3e-b8466faecca3"
      },
      "source": [
        "## use case 4: Convenience methods\n",
        "\n",
        "Wrappers often offer built-in methods to handle common kinds of tasks related to the APIs, reducing the need for manual calculations.\n",
        "\n",
        "for example converting units (e.g., temperature from Celsius to Fahrenheit) or working with more complex data requires manual conversion when using the raw API."
      ]
    },
    {
      "cell_type": "code",
      "execution_count": 48,
      "id": "c8e68dad-a503-49cf-9c1e-72e9ed1fab3d",
      "metadata": {
        "colab": {
          "base_uri": "https://localhost:8080/"
        },
        "id": "c8e68dad-a503-49cf-9c1e-72e9ed1fab3d",
        "outputId": "c2283b18-c46d-4960-a1bd-15eadeb82b04"
      },
      "outputs": [
        {
          "output_type": "stream",
          "name": "stdout",
          "text": [
            "Temperature in Celsius: 284.09°C, Fahrenheit: 543.362°F\n"
          ]
        }
      ],
      "source": [
        "city = 'London'\n",
        "url = f'http://api.openweathermap.org/data/2.5/weather?q={city}&appid={api_key}'\n",
        "\n",
        "response = re.get(url)\n",
        "data = response.json()\n",
        "temperature_celsius = data['main']['temp']\n",
        "temperature_fahrenheit = (temperature_celsius * 9/5) + 32\n",
        "\n",
        "print(f\"Temperature in Celsius: {temperature_celsius}°C, Fahrenheit: {temperature_fahrenheit}°F\")"
      ]
    },
    {
      "cell_type": "markdown",
      "id": "9b05658c-e9cb-491d-8554-ab4d6dd56e1d",
      "metadata": {
        "id": "9b05658c-e9cb-491d-8554-ab4d6dd56e1d"
      },
      "source": [
        "But the pyowm wrapper offers built-in methods to handle these kinds of tasks, reducing the need for manual calculations.\n",
        "Get the temperature both in Celcius and Farenheit using pyowm. Navigate the code recipes to figure out the inbuilt methods for this."
      ]
    },
    {
      "cell_type": "code",
      "execution_count": 50,
      "id": "4695bb83-bc35-4c1b-b390-5ea2027984ef",
      "metadata": {
        "colab": {
          "base_uri": "https://localhost:8080/"
        },
        "id": "4695bb83-bc35-4c1b-b390-5ea2027984ef",
        "outputId": "1892619c-2de7-4b37-fde1-70d11548273b"
      },
      "outputs": [
        {
          "output_type": "stream",
          "name": "stdout",
          "text": [
            "Temperature in Fahrenheit: 51.64°F\n",
            "Temperature in Celsius: 10.91°C\n"
          ]
        }
      ],
      "source": [
        "weather = weather_mgr.weather_at_place('London,UK').weather\n",
        "temp_dict_fahrenheit = weather.temperature('fahrenheit')\n",
        "temp_dict_celsius = weather.temperature('celsius')\n",
        "\n",
        "print(f\"Temperature in Fahrenheit: {temp_dict_fahrenheit['temp']}°F\")\n",
        "print(f\"Temperature in Celsius: {temp_dict_celsius['temp']}°C\")"
      ]
    }
  ],
  "metadata": {
    "kernelspec": {
      "display_name": "Python 3 (ipykernel)",
      "language": "python",
      "name": "python3"
    },
    "language_info": {
      "codemirror_mode": {
        "name": "ipython",
        "version": 3
      },
      "file_extension": ".py",
      "mimetype": "text/x-python",
      "name": "python",
      "nbconvert_exporter": "python",
      "pygments_lexer": "ipython3",
      "version": "3.12.2"
    },
    "colab": {
      "provenance": []
    }
  },
  "nbformat": 4,
  "nbformat_minor": 5
}