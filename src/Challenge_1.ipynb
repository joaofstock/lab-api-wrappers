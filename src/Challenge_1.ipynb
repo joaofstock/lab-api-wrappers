{
  "cells": [
    {
      "cell_type": "markdown",
      "id": "bd0a3905-b346-43d5-9791-d3869299eb9d",
      "metadata": {
        "id": "bd0a3905-b346-43d5-9791-d3869299eb9d"
      },
      "source": [
        "# API wrappers"
      ]
    },
    {
      "cell_type": "markdown",
      "id": "327b4075-5374-4ecf-b8c5-c106d20d80e1",
      "metadata": {
        "id": "327b4075-5374-4ecf-b8c5-c106d20d80e1"
      },
      "source": [
        "The OpenWeatherMap offers REST endpoints for querying current weather, forecasts, historical data, etc. However, accessing this data directly via the REST API requires handling multiple API calls, query parameters, and response parsing. The pyowm library abstracts these complexities and provides useful built-in functionalities."
      ]
    },
    {
      "cell_type": "markdown",
      "id": "1d731d49-fd79-44c8-8f72-68194c99fec0",
      "metadata": {
        "id": "1d731d49-fd79-44c8-8f72-68194c99fec0"
      },
      "source": [
        "After signing in to OpenWeatherMap retrieve your api key at https://home.openweathermap.org/api_keys\n",
        "\n",
        "You will also need to install the pyowm package: pip install pyowm"
      ]
    },
    {
      "cell_type": "code",
      "source": [
        "pip install pyowm"
      ],
      "metadata": {
        "colab": {
          "base_uri": "https://localhost:8080/"
        },
        "id": "d7ne9pMy9EQF",
        "outputId": "e32f9afd-e51a-4eb8-d847-1a51e7c5578a"
      },
      "id": "d7ne9pMy9EQF",
      "execution_count": 1,
      "outputs": [
        {
          "output_type": "stream",
          "name": "stdout",
          "text": [
            "Collecting pyowm\n",
            "  Downloading pyowm-3.3.0-py3-none-any.whl.metadata (6.8 kB)\n",
            "Requirement already satisfied: requests<3,>=2.20.0 in /usr/local/lib/python3.10/dist-packages (from pyowm) (2.32.3)\n",
            "Collecting geojson<3,>=2.3.0 (from pyowm)\n",
            "  Downloading geojson-2.5.0-py2.py3-none-any.whl.metadata (15 kB)\n",
            "Requirement already satisfied: PySocks<2,>=1.7.1 in /usr/local/lib/python3.10/dist-packages (from pyowm) (1.7.1)\n",
            "Requirement already satisfied: charset-normalizer<4,>=2 in /usr/local/lib/python3.10/dist-packages (from requests<3,>=2.20.0->pyowm) (3.4.0)\n",
            "Requirement already satisfied: idna<4,>=2.5 in /usr/local/lib/python3.10/dist-packages (from requests<3,>=2.20.0->pyowm) (3.10)\n",
            "Requirement already satisfied: urllib3<3,>=1.21.1 in /usr/local/lib/python3.10/dist-packages (from requests<3,>=2.20.0->pyowm) (2.2.3)\n",
            "Requirement already satisfied: certifi>=2017.4.17 in /usr/local/lib/python3.10/dist-packages (from requests<3,>=2.20.0->pyowm) (2024.8.30)\n",
            "Downloading pyowm-3.3.0-py3-none-any.whl (4.5 MB)\n",
            "\u001b[2K   \u001b[90m━━━━━━━━━━━━━━━━━━━━━━━━━━━━━━━━━━━━━━━━\u001b[0m \u001b[32m4.5/4.5 MB\u001b[0m \u001b[31m34.2 MB/s\u001b[0m eta \u001b[36m0:00:00\u001b[0m\n",
            "\u001b[?25hDownloading geojson-2.5.0-py2.py3-none-any.whl (14 kB)\n",
            "Installing collected packages: geojson, pyowm\n",
            "Successfully installed geojson-2.5.0 pyowm-3.3.0\n"
          ]
        }
      ]
    },
    {
      "cell_type": "code",
      "execution_count": 2,
      "id": "63b327b1-338b-4b14-a5b5-1bd8741da64b",
      "metadata": {
        "id": "63b327b1-338b-4b14-a5b5-1bd8741da64b"
      },
      "outputs": [],
      "source": [
        "import pandas as pd\n",
        "import requests as re\n",
        "import pyowm\n",
        "import json\n",
        "\n"
      ]
    },
    {
      "cell_type": "code",
      "source": [
        "with open('secrets.txt', 'r') as file:\n",
        "    content = file.read()\n",
        "    if 'open-weather:' in content:\n",
        "        api_key = content.split('open-weather:')[1].strip()\n"
      ],
      "metadata": {
        "id": "vlPSK6TqBuKX"
      },
      "id": "vlPSK6TqBuKX",
      "execution_count": 3,
      "outputs": []
    },
    {
      "cell_type": "markdown",
      "id": "f73d3029-c6a6-43b9-81a9-0e81c13bdf09",
      "metadata": {
        "id": "f73d3029-c6a6-43b9-81a9-0e81c13bdf09"
      },
      "source": [
        "## use case 1: managing API keys\n",
        "\n",
        "In a raw rest API call you always have to manage credentials in each individual call. Wrappers usually store and manage the authentication for you"
      ]
    },
    {
      "cell_type": "code",
      "execution_count": 4,
      "id": "afbcdf71-845e-4aae-b8cc-8963745f7d4b",
      "metadata": {
        "colab": {
          "base_uri": "https://localhost:8080/"
        },
        "id": "afbcdf71-845e-4aae-b8cc-8963745f7d4b",
        "outputId": "a5850005-f8f6-40cf-b249-9892d1277c36"
      },
      "outputs": [
        {
          "output_type": "execute_result",
          "data": {
            "text/plain": [
              "{'coord': {'lon': -0.1257, 'lat': 51.5085},\n",
              " 'weather': [{'id': 803,\n",
              "   'main': 'Clouds',\n",
              "   'description': 'broken clouds',\n",
              "   'icon': '04n'}],\n",
              " 'base': 'stations',\n",
              " 'main': {'temp': 283.83,\n",
              "  'feels_like': 283.33,\n",
              "  'temp_min': 281.43,\n",
              "  'temp_max': 284.7,\n",
              "  'pressure': 1023,\n",
              "  'humidity': 91,\n",
              "  'sea_level': 1023,\n",
              "  'grnd_level': 1019},\n",
              " 'visibility': 10000,\n",
              " 'wind': {'speed': 2.57, 'deg': 230},\n",
              " 'clouds': {'all': 54},\n",
              " 'dt': 1729550085,\n",
              " 'sys': {'type': 2,\n",
              "  'id': 2075535,\n",
              "  'country': 'GB',\n",
              "  'sunrise': 1729492507,\n",
              "  'sunset': 1729529683},\n",
              " 'timezone': 3600,\n",
              " 'id': 2643743,\n",
              " 'name': 'London',\n",
              " 'cod': 200}"
            ]
          },
          "metadata": {},
          "execution_count": 4
        }
      ],
      "source": [
        "#You can get current weather data by making a GET request to an endpoint like:\n",
        "\n",
        "params = {\n",
        "    'appid' : api_key\n",
        "}\n",
        "\n",
        "response = re.get('https://api.openweathermap.org/data/2.5/weather?q=London', params = params)\n",
        "\n",
        "json.loads(response.text)\n",
        "\n",
        "#but for every call you make using GET from now on you do need to add the parameters, since the raw API does not manage authentication for you"
      ]
    },
    {
      "cell_type": "markdown",
      "id": "b82c585b-fd83-4f59-9d46-14225f3e5037",
      "metadata": {
        "id": "b82c585b-fd83-4f59-9d46-14225f3e5037"
      },
      "source": [
        "Most wrappers (pyowm included) include some way of initializing a session with the authentication key that you then don't need to type again.\n",
        "\n",
        "Initialize pyowm with the default configuration. Thenopen the weather manager\n",
        "\n",
        "Check out a snippet here: https://pyowm.readthedocs.io/en/latest/v3/code-recipes.html#weather_data"
      ]
    },
    {
      "cell_type": "code",
      "execution_count": 5,
      "id": "f376d466-5a69-4a47-b35d-1870cbef61ff",
      "metadata": {
        "id": "f376d466-5a69-4a47-b35d-1870cbef61ff"
      },
      "outputs": [],
      "source": [
        "\n",
        "from pyowm.owm import OWM\n",
        "owm = OWM(api_key)\n",
        "weather_mgr = owm.weather_manager()"
      ]
    },
    {
      "cell_type": "markdown",
      "id": "840060e4-d3de-4b96-bb03-5bce02003f1d",
      "metadata": {
        "id": "840060e4-d3de-4b96-bb03-5bce02003f1d"
      },
      "source": [
        "## use case 2: Simplified calls\n",
        "\n",
        "With the raw REST API, you'd have to build a URL manually, send the request, and parse the JSON response to get the current weather."
      ]
    },
    {
      "cell_type": "code",
      "execution_count": 6,
      "id": "a2aa8395-0bed-4098-8881-0ffe93541b1f",
      "metadata": {
        "colab": {
          "base_uri": "https://localhost:8080/"
        },
        "id": "a2aa8395-0bed-4098-8881-0ffe93541b1f",
        "outputId": "13ee0bfd-d865-41dc-fcaa-5ba84032d3d2"
      },
      "outputs": [
        {
          "output_type": "stream",
          "name": "stdout",
          "text": [
            "Temperature: 10.68°C, Humidity: 91%, Wind Speed: 3.13 m/s\n"
          ]
        }
      ],
      "source": [
        "city = 'London'\n",
        "url = f'http://api.openweathermap.org/data/2.5/weather?q={city}'\n",
        "\n",
        "params = {\n",
        "    'appid': api_key,\n",
        "    'units': 'metric'\n",
        "}\n",
        "\n",
        "response = re.get(url,params= params)\n",
        "data = response.json()\n",
        "temperature = data['main']['temp']\n",
        "humidity = data['main']['humidity']\n",
        "wind_speed = data['wind']['speed']\n",
        "\n",
        "print(f\"Temperature: {temperature}°C, Humidity: {humidity}%, Wind Speed: {wind_speed} m/s\")"
      ]
    },
    {
      "cell_type": "markdown",
      "id": "df5bc6df-bfb2-416d-8d06-3961d3a12234",
      "metadata": {
        "id": "df5bc6df-bfb2-416d-8d06-3961d3a12234"
      },
      "source": [
        "Get the equivalent call as above for the city of London using the pyowm package"
      ]
    },
    {
      "cell_type": "code",
      "execution_count": 7,
      "id": "d1986770-4628-480b-b587-9ff5c42d301c",
      "metadata": {
        "colab": {
          "base_uri": "https://localhost:8080/"
        },
        "id": "d1986770-4628-480b-b587-9ff5c42d301c",
        "outputId": "19dd0996-238e-4ba6-d221-c207feca1481"
      },
      "outputs": [
        {
          "output_type": "stream",
          "name": "stdout",
          "text": [
            "City: London\n",
            "Temperature: 10.68°C\n",
            "Humidity: 91%\n",
            "Wind Speed: 3.13 m/s\n"
          ]
        }
      ],
      "source": [
        "observation = weather_mgr.weather_at_place(city)\n",
        "\n",
        "weather = observation.weather\n",
        "temperature = weather.temperature('celsius')['temp']\n",
        "humidity = weather.humidity\n",
        "wind_speed = weather.wind()['speed']\n",
        "\n",
        "print(f\"City: {city}\")\n",
        "print(f\"Temperature: {temperature}°C\")\n",
        "print(f\"Humidity: {humidity}%\")\n",
        "print(f\"Wind Speed: {wind_speed} m/s\")"
      ]
    },
    {
      "cell_type": "markdown",
      "id": "7e7b93b2-c383-4e49-8fce-a0923ac59031",
      "metadata": {
        "id": "7e7b93b2-c383-4e49-8fce-a0923ac59031"
      },
      "source": [
        "## use case 3: Combining and chaining calls\n",
        "\n",
        "Wrappers often offer methods that make multiple calls to batch requests that make sense to batch. And often they offer methods that make sequences of calls that each returns information necessary to make the next call."
      ]
    },
    {
      "cell_type": "markdown",
      "id": "8f4a6b6c-f397-48ce-a3ef-f88e1fb95eb9",
      "metadata": {
        "id": "8f4a6b6c-f397-48ce-a3ef-f88e1fb95eb9"
      },
      "source": [
        "For example, to get a weather forecast for a specific city using the raw API you need to first geocode the city to get its latitude and longitude:"
      ]
    },
    {
      "cell_type": "code",
      "execution_count": 8,
      "id": "d182cf31-80f8-4b61-8de0-897d2d6479d7",
      "metadata": {
        "id": "d182cf31-80f8-4b61-8de0-897d2d6479d7"
      },
      "outputs": [],
      "source": [
        "city = 'New York'\n",
        "geocode_url = f'http://api.openweathermap.org/data/2.5/weather?q={city}'\n",
        "geocode_response = re.get(geocode_url,params=params).json()\n",
        "\n",
        "lat = geocode_response['coord']['lat']\n",
        "lon = geocode_response['coord']['lon']"
      ]
    },
    {
      "cell_type": "markdown",
      "id": "547c5deb-1070-4b72-b035-32ea5a615eda",
      "metadata": {
        "id": "547c5deb-1070-4b72-b035-32ea5a615eda"
      },
      "source": [
        "Then, request the weather forecast for that latitude/longitude:"
      ]
    },
    {
      "cell_type": "code",
      "execution_count": 9,
      "id": "03737eff-cbc6-412f-b6a1-03e28b39b1e4",
      "metadata": {
        "colab": {
          "base_uri": "https://localhost:8080/"
        },
        "id": "03737eff-cbc6-412f-b6a1-03e28b39b1e4",
        "outputId": "ef5ca74f-0fe9-446b-d2d0-5fcff7182b3d"
      },
      "outputs": [
        {
          "output_type": "stream",
          "name": "stdout",
          "text": [
            "Time: 2024-10-22 00:00:00, Temp: 22.53°C\n",
            "Time: 2024-10-22 03:00:00, Temp: 21.66°C\n",
            "Time: 2024-10-22 06:00:00, Temp: 20.14°C\n",
            "Time: 2024-10-22 09:00:00, Temp: 18.12°C\n",
            "Time: 2024-10-22 12:00:00, Temp: 17.63°C\n",
            "Time: 2024-10-22 15:00:00, Temp: 21.27°C\n",
            "Time: 2024-10-22 18:00:00, Temp: 24.32°C\n",
            "Time: 2024-10-22 21:00:00, Temp: 22.57°C\n",
            "Time: 2024-10-23 00:00:00, Temp: 19.34°C\n",
            "Time: 2024-10-23 03:00:00, Temp: 18.64°C\n",
            "Time: 2024-10-23 06:00:00, Temp: 17.76°C\n",
            "Time: 2024-10-23 09:00:00, Temp: 16.54°C\n",
            "Time: 2024-10-23 12:00:00, Temp: 15.65°C\n",
            "Time: 2024-10-23 15:00:00, Temp: 19.01°C\n",
            "Time: 2024-10-23 18:00:00, Temp: 22.83°C\n",
            "Time: 2024-10-23 21:00:00, Temp: 23.21°C\n",
            "Time: 2024-10-24 00:00:00, Temp: 20.62°C\n",
            "Time: 2024-10-24 03:00:00, Temp: 18.96°C\n",
            "Time: 2024-10-24 06:00:00, Temp: 17.86°C\n",
            "Time: 2024-10-24 09:00:00, Temp: 13.6°C\n",
            "Time: 2024-10-24 12:00:00, Temp: 11.71°C\n",
            "Time: 2024-10-24 15:00:00, Temp: 13.62°C\n",
            "Time: 2024-10-24 18:00:00, Temp: 16.32°C\n",
            "Time: 2024-10-24 21:00:00, Temp: 17.07°C\n",
            "Time: 2024-10-25 00:00:00, Temp: 14.78°C\n",
            "Time: 2024-10-25 03:00:00, Temp: 13.29°C\n",
            "Time: 2024-10-25 06:00:00, Temp: 11.91°C\n",
            "Time: 2024-10-25 09:00:00, Temp: 10.63°C\n",
            "Time: 2024-10-25 12:00:00, Temp: 10.04°C\n",
            "Time: 2024-10-25 15:00:00, Temp: 13.32°C\n",
            "Time: 2024-10-25 18:00:00, Temp: 15.09°C\n",
            "Time: 2024-10-25 21:00:00, Temp: 15.21°C\n",
            "Time: 2024-10-26 00:00:00, Temp: 14.57°C\n",
            "Time: 2024-10-26 03:00:00, Temp: 14.85°C\n",
            "Time: 2024-10-26 06:00:00, Temp: 14.9°C\n",
            "Time: 2024-10-26 09:00:00, Temp: 14.66°C\n",
            "Time: 2024-10-26 12:00:00, Temp: 14.6°C\n",
            "Time: 2024-10-26 15:00:00, Temp: 17.07°C\n",
            "Time: 2024-10-26 18:00:00, Temp: 19.82°C\n",
            "Time: 2024-10-26 21:00:00, Temp: 19.8°C\n"
          ]
        }
      ],
      "source": [
        "forecast_url = f'http://api.openweathermap.org/data/2.5/forecast?lat={lat}&lon={lon}'\n",
        "forecast_response = re.get(forecast_url, params=params).json()\n",
        "\n",
        "for entry in forecast_response['list']:\n",
        "    print(f\"Time: {entry['dt_txt']}, Temp: {entry['main']['temp']}°C\")"
      ]
    },
    {
      "cell_type": "markdown",
      "id": "f75ab558-7500-40fa-a4aa-93a18053059a",
      "metadata": {
        "id": "f75ab558-7500-40fa-a4aa-93a18053059a"
      },
      "source": [
        "Two calls: one for geocoding, one for forecasts.\n",
        "But with pyowm, because this is a common operation, there is a method that handles the geocoding internally and then fetches the weather forecast in one step.\n",
        "\n",
        "Get the above forecast in a single call using pyowm.\n",
        "\n",
        "Hint: search for \"forecast_at_place\" in the code recipies of the documentation"
      ]
    },
    {
      "cell_type": "code",
      "execution_count": 10,
      "id": "11e3c1a8-260d-467c-8f47-793fd62a239b",
      "metadata": {
        "colab": {
          "base_uri": "https://localhost:8080/",
          "height": 353
        },
        "id": "11e3c1a8-260d-467c-8f47-793fd62a239b",
        "outputId": "a78c6382-b4ca-4150-f9c9-f0eb8c58cf81"
      },
      "outputs": [
        {
          "output_type": "error",
          "ename": "UnauthorizedError",
          "evalue": "Invalid API Key provided",
          "traceback": [
            "\u001b[0;31m---------------------------------------------------------------------------\u001b[0m",
            "\u001b[0;31mUnauthorizedError\u001b[0m                         Traceback (most recent call last)",
            "\u001b[0;32m<ipython-input-10-419cb462aa70>\u001b[0m in \u001b[0;36m<cell line: 4>\u001b[0;34m()\u001b[0m\n\u001b[1;32m      2\u001b[0m \u001b[0;34m\u001b[0m\u001b[0m\n\u001b[1;32m      3\u001b[0m \u001b[0;34m\u001b[0m\u001b[0m\n\u001b[0;32m----> 4\u001b[0;31m \u001b[0mdaily_forecast\u001b[0m \u001b[0;34m=\u001b[0m \u001b[0mweather_mgr\u001b[0m\u001b[0;34m.\u001b[0m\u001b[0mforecast_at_place\u001b[0m\u001b[0;34m(\u001b[0m\u001b[0;34m'Berlin,DE'\u001b[0m\u001b[0;34m,\u001b[0m \u001b[0;34m'daily'\u001b[0m\u001b[0;34m)\u001b[0m\u001b[0;34m.\u001b[0m\u001b[0mforecast\u001b[0m\u001b[0;34m\u001b[0m\u001b[0;34m\u001b[0m\u001b[0m\n\u001b[0m\u001b[1;32m      5\u001b[0m \u001b[0mthree_h_forecast\u001b[0m \u001b[0;34m=\u001b[0m \u001b[0mweather_mgr\u001b[0m\u001b[0;34m.\u001b[0m\u001b[0mforecast_at_place\u001b[0m\u001b[0;34m(\u001b[0m\u001b[0;34m'Berlin,DE'\u001b[0m\u001b[0;34m,\u001b[0m \u001b[0;34m'3h'\u001b[0m\u001b[0;34m)\u001b[0m\u001b[0;34m.\u001b[0m\u001b[0mforecast\u001b[0m\u001b[0;34m\u001b[0m\u001b[0;34m\u001b[0m\u001b[0m\n",
            "\u001b[0;32m/usr/local/lib/python3.10/dist-packages/pyowm/weatherapi25/weather_manager.py\u001b[0m in \u001b[0;36mforecast_at_place\u001b[0;34m(self, name, interval, limit)\u001b[0m\n\u001b[1;32m    289\u001b[0m         \u001b[0;32melse\u001b[0m\u001b[0;34m:\u001b[0m\u001b[0;34m\u001b[0m\u001b[0;34m\u001b[0m\u001b[0m\n\u001b[1;32m    290\u001b[0m             \u001b[0;32mraise\u001b[0m \u001b[0mValueError\u001b[0m\u001b[0;34m(\u001b[0m\u001b[0;34m\"Unsupported time interval for forecast\"\u001b[0m\u001b[0;34m)\u001b[0m\u001b[0;34m\u001b[0m\u001b[0;34m\u001b[0m\u001b[0m\n\u001b[0;32m--> 291\u001b[0;31m         \u001b[0m_\u001b[0m\u001b[0;34m,\u001b[0m \u001b[0mjson_data\u001b[0m \u001b[0;34m=\u001b[0m \u001b[0mself\u001b[0m\u001b[0;34m.\u001b[0m\u001b[0mhttp_client\u001b[0m\u001b[0;34m.\u001b[0m\u001b[0mget_json\u001b[0m\u001b[0;34m(\u001b[0m\u001b[0muri\u001b[0m\u001b[0;34m,\u001b[0m \u001b[0mparams\u001b[0m\u001b[0;34m=\u001b[0m\u001b[0mparams\u001b[0m\u001b[0;34m)\u001b[0m\u001b[0;34m\u001b[0m\u001b[0;34m\u001b[0m\u001b[0m\n\u001b[0m\u001b[1;32m    292\u001b[0m         \u001b[0mfc\u001b[0m \u001b[0;34m=\u001b[0m \u001b[0mforecast\u001b[0m\u001b[0;34m.\u001b[0m\u001b[0mForecast\u001b[0m\u001b[0;34m.\u001b[0m\u001b[0mfrom_dict\u001b[0m\u001b[0;34m(\u001b[0m\u001b[0mjson_data\u001b[0m\u001b[0;34m)\u001b[0m\u001b[0;34m\u001b[0m\u001b[0;34m\u001b[0m\u001b[0m\n\u001b[1;32m    293\u001b[0m         \u001b[0;32mif\u001b[0m \u001b[0mfc\u001b[0m \u001b[0;32mis\u001b[0m \u001b[0;32mnot\u001b[0m \u001b[0;32mNone\u001b[0m\u001b[0;34m:\u001b[0m\u001b[0;34m\u001b[0m\u001b[0;34m\u001b[0m\u001b[0m\n",
            "\u001b[0;32m/usr/local/lib/python3.10/dist-packages/pyowm/commons/http_client.py\u001b[0m in \u001b[0;36mget_json\u001b[0;34m(self, path, params, headers)\u001b[0m\n\u001b[1;32m    156\u001b[0m         \u001b[0;32mexcept\u001b[0m \u001b[0mrequests\u001b[0m\u001b[0;34m.\u001b[0m\u001b[0mexceptions\u001b[0m\u001b[0;34m.\u001b[0m\u001b[0mTimeout\u001b[0m\u001b[0;34m:\u001b[0m\u001b[0;34m\u001b[0m\u001b[0;34m\u001b[0m\u001b[0m\n\u001b[1;32m    157\u001b[0m             \u001b[0;32mraise\u001b[0m \u001b[0mexceptions\u001b[0m\u001b[0;34m.\u001b[0m\u001b[0mTimeoutError\u001b[0m\u001b[0;34m(\u001b[0m\u001b[0;34m'API call timeouted'\u001b[0m\u001b[0;34m)\u001b[0m\u001b[0;34m\u001b[0m\u001b[0;34m\u001b[0m\u001b[0m\n\u001b[0;32m--> 158\u001b[0;31m         \u001b[0mHttpClient\u001b[0m\u001b[0;34m.\u001b[0m\u001b[0mcheck_status_code\u001b[0m\u001b[0;34m(\u001b[0m\u001b[0mresp\u001b[0m\u001b[0;34m.\u001b[0m\u001b[0mstatus_code\u001b[0m\u001b[0;34m,\u001b[0m \u001b[0mresp\u001b[0m\u001b[0;34m.\u001b[0m\u001b[0mtext\u001b[0m\u001b[0;34m)\u001b[0m\u001b[0;34m\u001b[0m\u001b[0;34m\u001b[0m\u001b[0m\n\u001b[0m\u001b[1;32m    159\u001b[0m         \u001b[0;32mtry\u001b[0m\u001b[0;34m:\u001b[0m\u001b[0;34m\u001b[0m\u001b[0;34m\u001b[0m\u001b[0m\n\u001b[1;32m    160\u001b[0m             \u001b[0;32mreturn\u001b[0m \u001b[0mresp\u001b[0m\u001b[0;34m.\u001b[0m\u001b[0mstatus_code\u001b[0m\u001b[0;34m,\u001b[0m \u001b[0mresp\u001b[0m\u001b[0;34m.\u001b[0m\u001b[0mjson\u001b[0m\u001b[0;34m(\u001b[0m\u001b[0;34m)\u001b[0m\u001b[0;34m\u001b[0m\u001b[0;34m\u001b[0m\u001b[0m\n",
            "\u001b[0;32m/usr/local/lib/python3.10/dist-packages/pyowm/commons/http_client.py\u001b[0m in \u001b[0;36mcheck_status_code\u001b[0;34m(cls, status_code, payload)\u001b[0m\n\u001b[1;32m    311\u001b[0m             \u001b[0;32mraise\u001b[0m \u001b[0mexceptions\u001b[0m\u001b[0;34m.\u001b[0m\u001b[0mAPIRequestError\u001b[0m\u001b[0;34m(\u001b[0m\u001b[0mpayload\u001b[0m\u001b[0;34m)\u001b[0m\u001b[0;34m\u001b[0m\u001b[0;34m\u001b[0m\u001b[0m\n\u001b[1;32m    312\u001b[0m         \u001b[0;32melif\u001b[0m \u001b[0mstatus_code\u001b[0m \u001b[0;34m==\u001b[0m \u001b[0;36m401\u001b[0m\u001b[0;34m:\u001b[0m\u001b[0;34m\u001b[0m\u001b[0;34m\u001b[0m\u001b[0m\n\u001b[0;32m--> 313\u001b[0;31m             \u001b[0;32mraise\u001b[0m \u001b[0mexceptions\u001b[0m\u001b[0;34m.\u001b[0m\u001b[0mUnauthorizedError\u001b[0m\u001b[0;34m(\u001b[0m\u001b[0;34m'Invalid API Key provided'\u001b[0m\u001b[0;34m)\u001b[0m\u001b[0;34m\u001b[0m\u001b[0;34m\u001b[0m\u001b[0m\n\u001b[0m\u001b[1;32m    314\u001b[0m         \u001b[0;32melif\u001b[0m \u001b[0mstatus_code\u001b[0m \u001b[0;34m==\u001b[0m \u001b[0;36m404\u001b[0m\u001b[0;34m:\u001b[0m\u001b[0;34m\u001b[0m\u001b[0;34m\u001b[0m\u001b[0m\n\u001b[1;32m    315\u001b[0m             \u001b[0;32mraise\u001b[0m \u001b[0mexceptions\u001b[0m\u001b[0;34m.\u001b[0m\u001b[0mNotFoundError\u001b[0m\u001b[0;34m(\u001b[0m\u001b[0;34m'Unable to find the resource'\u001b[0m\u001b[0;34m)\u001b[0m\u001b[0;34m\u001b[0m\u001b[0;34m\u001b[0m\u001b[0m\n",
            "\u001b[0;31mUnauthorizedError\u001b[0m: Invalid API Key provided"
          ]
        }
      ],
      "source": [
        "# I cannot proceed unfortunatelly, it seems that it needs a paid API.\n",
        "\n",
        "\n",
        "daily_forecast = weather_mgr.forecast_at_place('Berlin,DE', 'daily').forecast\n",
        "three_h_forecast = weather_mgr.forecast_at_place('Berlin,DE', '3h').forecast"
      ]
    },
    {
      "cell_type": "markdown",
      "id": "7ab2b0cc-0d16-4da5-be3e-b8466faecca3",
      "metadata": {
        "id": "7ab2b0cc-0d16-4da5-be3e-b8466faecca3"
      },
      "source": [
        "## use case 4: Convenience methods\n",
        "\n",
        "Wrappers often offer built-in methods to handle common kinds of tasks related to the APIs, reducing the need for manual calculations.\n",
        "\n",
        "for example converting units (e.g., temperature from Celsius to Fahrenheit) or working with more complex data requires manual conversion when using the raw API."
      ]
    },
    {
      "cell_type": "code",
      "execution_count": null,
      "id": "c8e68dad-a503-49cf-9c1e-72e9ed1fab3d",
      "metadata": {
        "id": "c8e68dad-a503-49cf-9c1e-72e9ed1fab3d"
      },
      "outputs": [],
      "source": [
        "city = 'London'\n",
        "url = f'http://api.openweathermap.org/data/2.5/weather?q={city}&appid={api_key}'\n",
        "\n",
        "response = re.get(url)\n",
        "data = response.json()\n",
        "temperature_celsius = data['main']['temp']\n",
        "temperature_fahrenheit = (temperature_celsius * 9/5) + 32\n",
        "\n",
        "print(f\"Temperature in Celsius: {temperature_celsius}°C, Fahrenheit: {temperature_fahrenheit}°F\")"
      ]
    },
    {
      "cell_type": "markdown",
      "id": "9b05658c-e9cb-491d-8554-ab4d6dd56e1d",
      "metadata": {
        "id": "9b05658c-e9cb-491d-8554-ab4d6dd56e1d"
      },
      "source": [
        "But the pyowm wrapper offers built-in methods to handle these kinds of tasks, reducing the need for manual calculations.\n",
        "Get the temperature both in Celcius and Farenheit using pyowm. Navigate the code recipes to figure out the inbuilt methods for this."
      ]
    },
    {
      "cell_type": "code",
      "execution_count": null,
      "id": "4695bb83-bc35-4c1b-b390-5ea2027984ef",
      "metadata": {
        "id": "4695bb83-bc35-4c1b-b390-5ea2027984ef"
      },
      "outputs": [],
      "source": [
        "weather = weather_mgr.weather_at_place('London,UK').weather\n",
        "temp_dict_fahrenheit = weather.temperature('fahrenheit')\n",
        "temp_dict_celsius = weather.temperature('celsius')\n",
        "\n",
        "print(f\"Temperature in Fahrenheit: {temp_dict_fahrenheit['temp']}°F\")\n",
        "print(f\"Temperature in Celsius: {temp_dict_celsius['temp']}°C\")"
      ]
    }
  ],
  "metadata": {
    "kernelspec": {
      "display_name": "Python 3 (ipykernel)",
      "language": "python",
      "name": "python3"
    },
    "language_info": {
      "codemirror_mode": {
        "name": "ipython",
        "version": 3
      },
      "file_extension": ".py",
      "mimetype": "text/x-python",
      "name": "python",
      "nbconvert_exporter": "python",
      "pygments_lexer": "ipython3",
      "version": "3.12.2"
    },
    "colab": {
      "provenance": []
    }
  },
  "nbformat": 4,
  "nbformat_minor": 5
}